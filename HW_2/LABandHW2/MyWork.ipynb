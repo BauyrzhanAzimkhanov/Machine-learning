{
 "cells": [
  {
   "cell_type": "code",
   "execution_count": null,
   "metadata": {},
   "outputs": [],
   "source": [
    "import numpy as np\n",
    "class KMeans():\n",
    "    def __init__(self, k):\n",
    "        self.k = k # Amount of classes\n",
    "    \n",
    "    def fit(self, data):\n",
    "        self.data = data\n",
    "        #Put your code here for \n",
    "        # 1.centroid init\n",
    "        # 2.iterations through data points and evaluation of centroids' positions\n",
    "        ans_data = np.zeros((self.data.shape[0], self.k))\n",
    "        centroids = self.data.sample(k)\n",
    "        difference = 1\n",
    "        counter = 0\n",
    "        while(difference != 0):\n",
    "            temp_data = ans_data\n",
    "            i = 1\n",
    "            for index_1, row_a in centroids.iterrows():\n",
    "                cur_dist = []\n",
    "                for index_2, row_b in temp_data.iterrows():\n",
    "                    dist1 = (row_a[0] - row_b[0])**2\n",
    "                    dist2 = (row_a[1] - row_b[1])**2\n",
    "                    dist3 = (row_a[2] - row_b[2])**2\n",
    "                    final_dist = np.sqrt(dist1 + dist2 + dist3)\n",
    "                    cur_dist.append(final_dist)\n",
    "                ans_data[i] = cur_dist\n",
    "                i = i + 1\n",
    "            clasterized = []\n",
    "            for index, row in ans_data.iterrows():\n",
    "                min_dist = row[1]\n",
    "                position = 1\n",
    "                for i in range(i, self.k):\n",
    "                    if row[i + 1] < min_dist:\n",
    "                min_dist = row[i + 1]\n",
    "                position = i + 1\n",
    "            clasterized.append(position)\n",
    "        ans_data[\"cluster\"] = clasterized\n",
    "        centroids_new = ans_data.groupby([\"Cluster\"]).mean()[[0, 1, 2]]\n",
    "        if counter == 0:\n",
    "            difference = 1\n",
    "            counter = counter + 1\n",
    "        else:\n",
    "            difference = (centroids_new[0] - centroids[0]).sum() + (centroids_new[1] - Centroids[1]).sum() + (centroids_new[2] - centroids[2]).sum()\n",
    "        centroids = ans_data.groupby([\"Cluster\"]).mean()[[0, 1, 2]]\n",
    "        \n",
    "        \n",
    "    def classify(self,x):\n",
    "        return np.random.randint(0, high = 255,size=3)"
   ]
  }
 ],
 "metadata": {
  "kernelspec": {
   "display_name": "Python 3",
   "language": "python",
   "name": "python3"
  },
  "language_info": {
   "codemirror_mode": {
    "name": "ipython",
    "version": 3
   },
   "file_extension": ".py",
   "mimetype": "text/x-python",
   "name": "python",
   "nbconvert_exporter": "python",
   "pygments_lexer": "ipython3",
   "version": "3.7.6"
  }
 },
 "nbformat": 4,
 "nbformat_minor": 4
}
