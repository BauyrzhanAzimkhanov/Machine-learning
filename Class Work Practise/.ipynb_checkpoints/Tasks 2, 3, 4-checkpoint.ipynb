{
 "cells": [
  {
   "cell_type": "code",
   "execution_count": 1,
   "metadata": {},
   "outputs": [],
   "source": [
    "import math, time"
   ]
  },
  {
   "cell_type": "code",
   "execution_count": 10,
   "metadata": {},
   "outputs": [],
   "source": [
    "def solution_for_task_2(A):\n",
    "    n = len(A)\n",
    "    summa = [0] * n\n",
    "\n",
    "    for i in range(n):\n",
    "        rightmost = 0\n",
    "        if( A[i] + i <= n - 1):\n",
    "            rightmost = i + A[i]\n",
    "        else:\n",
    "            rightmost = n - 1\n",
    "        summa[rightmost] += 1\n",
    "\n",
    "    for i in range(n - 1):\n",
    "        summa[i] += summa[i + 1]\n",
    "\n",
    "    ans = n * (n - 1) / 2\n",
    "\n",
    "    for i in range(n):\n",
    "        leftmost = 0\n",
    "\n",
    "        if (0 > i - A[i]):\n",
    "            leftmost = 0\n",
    "        else:\n",
    "            leftmost = i - A[i]\n",
    "\n",
    "        if (leftmost > 0):\n",
    "            ans -= summa[leftmost - 1]\n",
    "\n",
    "    if (ans > 10000000):\n",
    "        return (-1)\n",
    "\n",
    "    return ans"
   ]
  },
  {
   "cell_type": "code",
   "execution_count": 11,
   "metadata": {},
   "outputs": [
    {
     "name": "stdout",
     "output_type": "stream",
     "text": [
      "9.0\n"
     ]
    }
   ],
   "source": [
    "print(solution_for_task_2([1, 5, 2, 1, 4, 0]))"
   ]
  },
  {
   "cell_type": "code",
   "execution_count": 2,
   "metadata": {},
   "outputs": [
    {
     "name": "stdout",
     "output_type": "stream",
     "text": [
      "-6546545\n"
     ]
    }
   ],
   "source": [
    "def solution_for_task_3(B):\n",
    "    ans = B[0]\n",
    "    for i in range(1, len(B)):\n",
    "        ans = B[i] ^ ans\n",
    "    return ans\n",
    "print(solution_for_task_3([9, 3, 9, 3, 9, 7, 9, 7, -6546545]))"
   ]
  },
  {
   "cell_type": "code",
   "execution_count": 41,
   "metadata": {},
   "outputs": [],
   "source": [
    "def solution_for_task_4(C, D):   ######## this is not correct function\n",
    "    lenght = len(C)\n",
    "    live = [True] * lenght\n",
    "    #print(len(C))\n",
    "    alive = lenght\n",
    "    kill = False\n",
    "    i = 0\n",
    "    j = 0\n",
    "    while(i < lenght):\n",
    "        #print(i)\n",
    "        if(D[i] == 1):\n",
    "            j = i + 1\n",
    "            while(D[j] == 0 and C[j] < C[i] and j < lenght):\n",
    "                alive = alive - 1\n",
    "                #print(i, j)\n",
    "                live[j] = False\n",
    "                j = j + 1\n",
    "            i = j - 1\n",
    "        i = i + 1\n",
    "    i = lenght - 1\n",
    "    j = i\n",
    "    maxi = i\n",
    "    while(i >= 0):\n",
    "        if(D[i] == 0):\n",
    "            if(live[i] == False):\n",
    "                continue\n",
    "                if\n",
    "            j = i - 1\n",
    "            print(i, j)\n",
    "            while(D[j] == 1 and C[j] < C[i] and j >= 0 and live[j] == True):\n",
    "                alive = alive - 1\n",
    "                #print(i, j)\n",
    "                j = j - 1\n",
    "                \n",
    "            i = j + 1\n",
    "        i = i - 1\n",
    "    #print(alive)\n",
    "    return alive"
   ]
  },
  {
   "cell_type": "code",
   "execution_count": 50,
   "metadata": {},
   "outputs": [
    {
     "name": "stdout",
     "output_type": "stream",
     "text": [
      "4 3\n",
      "3 2\n",
      "2 1\n",
      "0 -1\n",
      "3\n"
     ]
    }
   ],
   "source": [
    "first = [ 4, 3, 2, 1, 5]\n",
    "second = [ 0, 1, 0, 0, 0]\n",
    "print(solution_for_task_4(first, second))"
   ]
  },
  {
   "cell_type": "code",
   "execution_count": 51,
   "metadata": {},
   "outputs": [],
   "source": [
    "def solution_for_task_4(C, D):  # this is correct function\n",
    "    size = len(C)\n",
    "    maxi_r = -1 \n",
    "    maxi_rc = 0 #maxi right coordinate\n",
    "    maxi_l = -1\n",
    "    maxi_lc = 0 #maxi right coordinate\n",
    "    kill = 0\n",
    "    for i in range(size):\n",
    "        if(C[i] > maxi_r and D[i] == 1):\n",
    "            maxi_r = C[i] \n",
    "            maxi_rc = i\n",
    "        if(C[i] > maxi_l and D[i] == 0):\n",
    "            maxi_l = C[i]\n",
    "            maxi_lc = i\n",
    "    for i in range(size):\n",
    "        if(C[i] < maxi_r and D[i] == 0 and i > maxi_rc):\n",
    "            kill = kill + 1\n",
    "    for i in reversed(range(size)):\n",
    "        if(C[i] < maxi_l and D[i] == 1 and i < maxi_lc):\n",
    "            kill = kill + 1\n",
    "    return size - kill"
   ]
  },
  {
   "cell_type": "code",
   "execution_count": 52,
   "metadata": {},
   "outputs": [
    {
     "name": "stdout",
     "output_type": "stream",
     "text": [
      "2\n"
     ]
    }
   ],
   "source": [
    "print(new_sol(first, second))\n"
   ]
  },
  {
   "cell_type": "code",
   "execution_count": null,
   "metadata": {},
   "outputs": [],
   "source": []
  }
 ],
 "metadata": {
  "kernelspec": {
   "display_name": "Python 3",
   "language": "python",
   "name": "python3"
  },
  "language_info": {
   "codemirror_mode": {
    "name": "ipython",
    "version": 3
   },
   "file_extension": ".py",
   "mimetype": "text/x-python",
   "name": "python",
   "nbconvert_exporter": "python",
   "pygments_lexer": "ipython3",
   "version": "3.7.6"
  }
 },
 "nbformat": 4,
 "nbformat_minor": 4
}
