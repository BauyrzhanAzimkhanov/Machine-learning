{
 "cells": [
  {
   "cell_type": "code",
   "execution_count": 1,
   "metadata": {},
   "outputs": [],
   "source": [
    "import math\n",
    "import time"
   ]
  },
  {
   "cell_type": "code",
   "execution_count": 2,
   "metadata": {},
   "outputs": [
    {
     "name": "stdout",
     "output_type": "stream",
     "text": [
      "[1, 1, 1, 1, 1, 1, 1, 1, 1, 1, 1, 1, 1, 1, 1, 1, 1, 1, 1, 1, 1, 1, 1, 1, 1, 1, 1, 1, 1, 1, 1]\n",
      "0 0.0034623000000006954\n"
     ]
    },
    {
     "name": "stderr",
     "output_type": "stream",
     "text": [
      "C:\\ProgramData\\Anaconda3\\lib\\site-packages\\ipykernel_launcher.py:31: DeprecationWarning: time.clock has been deprecated in Python 3.3 and will be removed from Python 3.8: use time.perf_counter or time.process_time instead\n",
      "C:\\ProgramData\\Anaconda3\\lib\\site-packages\\ipykernel_launcher.py:33: DeprecationWarning: time.clock has been deprecated in Python 3.3 and will be removed from Python 3.8: use time.perf_counter or time.process_time instead\n"
     ]
    }
   ],
   "source": [
    "def solution1(N):\n",
    "    lenght = math.ceil(math.log2(N))\n",
    "    if(lenght == 0 or N == 1):\n",
    "        lenght = 1\n",
    "    a = [0] * lenght\n",
    "    #print(a)\n",
    "    res = N\n",
    "    prev = -5\n",
    "    maximum = 0\n",
    "    changes = False\n",
    "    i = 0\n",
    "    while(res > 0):\n",
    "        a[lenght - i - 1] = res % 2\n",
    "        res = res // 2\n",
    "        i = i + 1\n",
    "    print(a)\n",
    "    for i in range(len(a)):\n",
    "        if(a[i] == 1 and i == 0):\n",
    "            prev = i\n",
    "        if(a[i] == 1 and prev > -5):\n",
    "            temp = i - prev\n",
    "            prev = i\n",
    "            if(temp > 1 and temp > maximum):\n",
    "                maximum = temp\n",
    "                changes = True\n",
    "        #print(i, prev)\n",
    "    if(changes == False):\n",
    "        return maximum\n",
    "    else:\n",
    "        return maximum - 1\n",
    "start_time = time.clock()\n",
    "\n",
    "print(solution1(2147483647), time.clock()- start_time)\n",
    "    "
   ]
  },
  {
   "cell_type": "code",
   "execution_count": 3,
   "metadata": {},
   "outputs": [
    {
     "name": "stdout",
     "output_type": "stream",
     "text": [
      "0 0.0011887000000001535\n"
     ]
    },
    {
     "name": "stderr",
     "output_type": "stream",
     "text": [
      "C:\\ProgramData\\Anaconda3\\lib\\site-packages\\ipykernel_launcher.py:23: DeprecationWarning: time.clock has been deprecated in Python 3.3 and will be removed from Python 3.8: use time.perf_counter or time.process_time instead\n",
      "C:\\ProgramData\\Anaconda3\\lib\\site-packages\\ipykernel_launcher.py:25: DeprecationWarning: time.clock has been deprecated in Python 3.3 and will be removed from Python 3.8: use time.perf_counter or time.process_time instead\n"
     ]
    }
   ],
   "source": [
    "def solution2(N):\n",
    "    \n",
    "    res = N\n",
    "    prev = -5\n",
    "    maximum = 0\n",
    "    i = 0\n",
    "    \n",
    "    while(res > 0):\n",
    "        if(res % 2 and i == 0):\n",
    "            prev = i\n",
    "        if(res % 2 and prev > -1):\n",
    "            temp = i - prev\n",
    "            prev = i\n",
    "            if(temp > 1 and temp > maximum):\n",
    "                maximum = temp\n",
    "        res = res // 2\n",
    "        i = i + 1\n",
    "    \n",
    "    if(maximum == 0):\n",
    "        return maximum\n",
    "    else:\n",
    "        return maximum - 1\n",
    "start_time = time.clock()\n",
    "\n",
    "print(solution2(2147483647), time.clock()- start_time)"
   ]
  },
  {
   "cell_type": "code",
   "execution_count": null,
   "metadata": {},
   "outputs": [],
   "source": []
  }
 ],
 "metadata": {
  "kernelspec": {
   "display_name": "Python 3",
   "language": "python",
   "name": "python3"
  },
  "language_info": {
   "codemirror_mode": {
    "name": "ipython",
    "version": 3
   },
   "file_extension": ".py",
   "mimetype": "text/x-python",
   "name": "python",
   "nbconvert_exporter": "python",
   "pygments_lexer": "ipython3",
   "version": "3.7.6"
  }
 },
 "nbformat": 4,
 "nbformat_minor": 4
}
